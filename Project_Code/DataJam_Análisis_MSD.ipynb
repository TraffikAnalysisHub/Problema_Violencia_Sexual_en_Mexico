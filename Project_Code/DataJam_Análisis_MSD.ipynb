{
 "cells": [
  {
   "cell_type": "markdown",
   "metadata": {},
   "source": [
    "##                                           MDS aplicado a los estados de la República Mexicana"
   ]
  },
  {
   "cell_type": "markdown",
   "metadata": {},
   "source": [
    "Se realizó un mds , para visualizar la distancia o configuración relativa de los 32 estados de la República Mexicana.\n",
    "La muestra usada está formada por un sector de personas que en las encuestas sobre victimización y percepción de la violencia de INEGI 2019, que contestaron, fueron forzadas a alguna actividad sexual no deseada o declararon haber sufrido abuso sexual*.\n",
    "\n",
    "\n",
    "## Metodología del análisis MDS:\n",
    "\n",
    "Se contruyó una base de 32 registros (uno para cada edo) con las variables:\n",
    "\n",
    "#### Número de casos para cada delito* :Tpo_delito_13.0,Tpo_delito_14.0\n",
    "#### Número de casos para cada aspecto de \"cómo\" ocurrio el delito:\n",
    "\n",
    "  a) El mes en que sucedió: BP1_delito_Ene,..,BP1_delito_dic\n",
    "  \n",
    "  b) En qué momento del día ocurrió: BP1_4_maÃ.ana_6_12_am, BP1_4_tarde_12_18, BP1_4_noche_18_24, BP1_4_madrugada_01_06\n",
    "  \n",
    "  \n",
    "  c) En dónde ocurrió: BP1_5_calle, BP1_5_casa, BP1_5_trabajo, BP1_5_negocio_establecimiento, BP1_5_lugar_publico\n",
    "                   BP1_5_trans_pub, BP1_5_carretera\n",
    "                   \n",
    "  d) Si la victima estaba acompañada o iba :BP1_8_acompaniada_si, BP1_8_acompaniada_no \n",
    "  \n",
    "  e) El número de delincuentes:BP1_9_1_num_delin_1, BP1_9_1_num_delin_2, BP1_9_1_num_delin_3, BP1_9_1_num_delin_4,                      BP1_9_1_num_delin_5, BP1_9_1_num_delin_6\n",
    "  \n",
    "  f) El tipo de ofensa : BP7_1_tpo_ofensa_int_viola, BP7_1_tpo_ofen_hostig, BP7_1_tpo_ofen_tocamiento, BP7_1_tpo_ofen_exhib\n",
    "  \n",
    "#### Número de victimas de sexo femenino:sexo_2  \n",
    "\n",
    "#### Número de victimas de sexo masculino:sexo_1 \n",
    "\n",
    "#### Número de victimas para tres categorias de edades ; Adulto_joven :18-30 años, Adulto: 31-59 años, Adulto_mayor:+60 años.\n",
    "\n",
    "\n",
    "* Específicamente se estudiaron dos códigos de delito:\n",
    " 13 :Alguien en contra de su voluntad lo(a) agredió mediante hostigamiento sexual, manoseo, exhibicionismo o intento de        violación\n",
    " 14: Fue obligado(a) mediante violencia física o amenaza por alguien conocido o desconocido a tener una actividad sexual       no deseada (violación sexual)"
   ]
  },
  {
   "cell_type": "code",
   "execution_count": 1,
   "metadata": {},
   "outputs": [
    {
     "name": "stderr",
     "output_type": "stream",
     "text": [
      "Warning message:\n",
      "\"package 'smacof' was built under R version 3.6.3\"Loading required package: plotrix\n",
      "Warning message:\n",
      "\"package 'plotrix' was built under R version 3.6.3\"Loading required package: colorspace\n",
      "Loading required package: e1071\n",
      "Warning message:\n",
      "\"package 'e1071' was built under R version 3.6.3\"Registered S3 methods overwritten by 'ggplot2':\n",
      "  method         from \n",
      "  [.quosures     rlang\n",
      "  c.quosures     rlang\n",
      "  print.quosures rlang\n",
      "\n",
      "Attaching package: 'smacof'\n",
      "\n",
      "The following object is masked from 'package:base':\n",
      "\n",
      "    transform\n",
      "\n"
     ]
    }
   ],
   "source": [
    "#install.packages(\"smacof\")\n",
    "library('smacof')"
   ]
  },
  {
   "cell_type": "markdown",
   "metadata": {},
   "source": [
    "## Análsis por estado"
   ]
  },
  {
   "cell_type": "code",
   "execution_count": 57,
   "metadata": {},
   "outputs": [],
   "source": [
    "name_edos = c(\"AGS\",\"BC\",\"BCS\",\"CAMP\",\"CHIS\",\"CHIH\",\"CDMX\",\t\"COAH\",\t\"COL\",\t\"DGO\",\t\"GTO\",\t\"GRO\",\t\"HGO\",\t\"JAL\",\t\"EDO_MEX\",\t\"MICH\",\t\"MOR\",\t\"NAY\",\t\"NL\",\t\"OAX\",\t\"PUE\",\t\"QRO\",\t\"QRoo\",\t\"SLP\",\t\"SIN\",\t\"SON\",\t\"TAB\",\t\"TAMPS\",\t\"TLAX\",\t\"VER\",\t\"YUC\",\t\"ZAC\")"
   ]
  },
  {
   "cell_type": "code",
   "execution_count": 58,
   "metadata": {},
   "outputs": [
    {
     "data": {
      "text/html": [
       "<ol class=list-inline>\n",
       "\t<li>0.523730879337216</li>\n",
       "\t<li>0.523730879337216</li>\n",
       "</ol>\n"
      ],
      "text/latex": [
       "\\begin{enumerate*}\n",
       "\\item 0.523730879337216\n",
       "\\item 0.523730879337216\n",
       "\\end{enumerate*}\n"
      ],
      "text/markdown": [
       "1. 0.523730879337216\n",
       "2. 0.523730879337216\n",
       "\n",
       "\n"
      ],
      "text/plain": [
       "[1] 0.5237309 0.5237309"
      ]
     },
     "metadata": {},
     "output_type": "display_data"
    },
    {
     "data": {
      "image/png": "[encoded data removed]",
      "text/plain": [
       "Plot with title \"Configuración estados de la Republica Mexicana\""
      ]
     },
     "metadata": {},
     "output_type": "display_data"
    }
   ],
   "source": [
    "# Cargar la base con información por municipio\n",
    "edos <- read.csv(\"C:/Users/Documents/DATA_JAM/MEXICO/data_mds_ff_edo.csv\")\n",
    "# dim(edos) #32 44\n",
    "base_ = edos[,-1]   # quitamos los nombres de las variables columna\n",
    "base2_= base_[,-43]\n",
    "base3_ = scale(base2_, center =TRUE, scale = TRUE) #estandarizamos los datos\n",
    "dis_edos_ = dist(base3_, method = \"euclidean\", diag = TRUE, upper = TRUE) #Matriz de distancias\n",
    "\n",
    "resul_mds_clas_<-cmdscale(dis_edos_, k = 3, eig = TRUE, add = FALSE, x.ret = FALSE) # MSD clasico\n",
    "\n",
    "# se extrae la configuracion solucion X\n",
    "config_nations_<-resul_mds_clas_$points\n",
    "\n",
    "#se añaden los nombres de las naciones a la configuracion solucion X\n",
    "dimnames(config_nations_)[[1]]<-name_edos\n",
    "\n",
    "#se grafica la configuracion solucion obtenida mediante mds clasico\n",
    "\n",
    "plot(config_nations_[,1],config_nations_[,2],main=\"Configuración estados de la Republica Mexicana\",\n",
    "     xlab=\"dim 1\",ylab=\"dim 2\",type=\"n\",lwd=0.5,ylim =c(-5,5) ,xlim=c(-9,17) )\n",
    "\n",
    "text(config_nations_[,1],config_nations_[,2],labels=row.names(config_nations_))\n",
    "\n",
    "# se obtiene la proporcion de la varianza total explicada por las dos dimensiones\n",
    "resul_mds_clas_$GOF"
   ]
  },
  {
   "cell_type": "markdown",
   "metadata": {},
   "source": [
    "# Interpretación"
   ]
  },
  {
   "cell_type": "markdown",
   "metadata": {},
   "source": [
    "El gráfico de arribla muestra la cercanía (qué tan similares) son los estados entre sí, en el sentido de cercanía en\n",
    "las características de los delitos sexuales.\n",
    "\n",
    "Calculando la correlación entre los valores de cada estado en cada dimensión y las variables de la tabla original,\n",
    "se encontró lo siguiente:\n",
    "\n",
    "### para la dimensión 1 las variables con mayor peso (o representadas al proyectar sobre ese eje) son:\n",
    "\n",
    "*El tipo de delito 13 (hostigamiento sexual pero sin presentarse la violación), \n",
    "*Se llevaron a cabo en los meses de enero,mayo,nov y dic\n",
    "*Se efectuaron principalmente en la mañana,tarde y noche.\n",
    "*Situándose en calle y transporte público.\n",
    "*La victima se encontraba acompañada y\n",
    "*El número de delincuentes se sitúa en 1 y 2.\n",
    "*El tipo de ofenza fue el hostigamiento y tocamientos, para  mujeres en edad de adulto joven.\n",
    "\n",
    "Podemos observar 4 agrupaciones en especifico para  los estados en la dirección de Dimension 1.\n",
    "\n",
    "1.-Morelos, Querétaro,estado de México,Jalisco San Luis Potosi,Guanajuato (geograficamente cercanos)\n",
    "2.-Quintana Ro ,Durango, Sinaloa,Nuevo León,Nayarit, Veracruz,Tamaulipas, Puebla,Colima,Chihuahua,Baja Califoria,Chiapa,Coahuila,\n",
    "    Campeche,Michoacan,Guerrero,Zacatecas.\n",
    "3.-Tlaxcala,Aguascalientes\n",
    "4. Ciudad de México\n",
    "\n",
    "\n",
    "\n",
    "#### Por otro lado, para el eje de dimensión 2, las variables que tienen representación son el delito tipo 14 efectuado en casa.\n",
    "\n",
    "Para Dimensión 2 distinguimos (proyectando sobre el eje) 6 agrupaciones importantes.\n",
    "\n",
    "1. Morelos\n",
    "2.-Sonora, Quintana Roo, Queretaro,Sinaloa,Nuevo León.\n",
    "3.-Nayarit,Veracruz,Durango,Tamaulipas,Colima,Tlaxcala,Aguascalientes,Chiapas,Baja California.\n",
    "4.-Zacatecas,Baja Califronia Sur,Coahuila,CDMX,EDO_MEX,Oaxaca.\n",
    "5.-Tabascco,Michoacan,Hidalgo,Jalisco,San Luis Potosi,Guerrero.\n",
    "6.-Guanajuato.\n",
    "\n"
   ]
  },
  {
   "cell_type": "markdown",
   "metadata": {},
   "source": [
    "Lista de abreviaturas de los Estados de México\n",
    "\n",
    "    Estado         Variable\n",
    "Aguascalientes       Ags.\n",
    "Baja California      B.C.\n",
    "Baja California Sur  BCS\n",
    "Campeche             Camp.\n",
    "Chiapas              Chis\n",
    "Chihuahua            Chih.\n",
    "Ciudad de México     CDMx\n",
    "Coahuila             Coah\n",
    "Colima               Col\n",
    "Durango              Dgo\n",
    "Guanajuato           Gto\n",
    "Guerrero             Gro\n",
    "Hidalgo              Hgo\n",
    "Jalisco              Jal\n",
    "México               Edo. Méx\n",
    "Michoacán            Mich\n",
    "Morelos              Mor\n",
    "Nayarit              Nay\n",
    "Nuevo León           N.L\n",
    "Oaxaca               Oax.\n",
    "Puebla               Pue\n",
    "Querétaro            Qro.\n",
    "Quintana Roo         Q.Roo\n",
    "San Luis Potosí      SLP\n",
    "Sinaloa              Sin\n",
    "Sonora               Son\n",
    "Tabasco              Tab\n",
    "Tamaulipas           Tamps\n",
    "Tlaxcala             Tlax.\n",
    "Veracruz             Ver.\n",
    "Yucatán              Yuc\n",
    "Zacatecas            Zac."
   ]
  },
  {
   "cell_type": "markdown",
   "metadata": {},
   "source": [
    "## Correlación entre las puntuaciones de las dimensiones y las variables."
   ]
  },
  {
   "cell_type": "code",
   "execution_count": 73,
   "metadata": {},
   "outputs": [],
   "source": [
    "puntos = resul_mds_clas_$points\n",
    "dim1 = puntos[,1]\n",
    "dim2 = puntos[,2]\n",
    "dim3 = puntos[,3]\n",
    "tab_pca = edos[,-1]\n",
    "tab_pca = tab_pca[,-43]\n",
    "tab_pca_1 = cbind(dim1,tab_pca)\n",
    "tab_pca_2 = cbind(dim2,tab_pca)\n",
    "cor_dim1 = cor(tab_pca_1)[1,]\n",
    "cor_dim2 = cor(tab_pca_2)[1,]"
   ]
  }
 ],
 "metadata": {
  "kernelspec": {
   "display_name": "R",
   "language": "R",
   "name": "ir"
  },
  "language_info": {
   "codemirror_mode": "r",
   "file_extension": ".r",
   "mimetype": "text/x-r-source",
   "name": "R",
   "pygments_lexer": "r",
   "version": "3.6.1"
  }
 },
 "nbformat": 4,
 "nbformat_minor": 4
}
